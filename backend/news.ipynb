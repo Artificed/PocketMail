{
 "cells": [
  {
   "cell_type": "code",
   "execution_count": 1,
   "metadata": {},
   "outputs": [],
   "source": [
    "import worldnewsapi\n",
    "from worldnewsapi.rest import ApiException\n",
    "from dotenv import load_dotenv\n",
    "import os"
   ]
  },
  {
   "cell_type": "code",
   "execution_count": 2,
   "metadata": {},
   "outputs": [],
   "source": [
    "load_dotenv()\n",
    "\n",
    "API_KEY = os.getenv('NEWS_API_KEY')"
   ]
  },
  {
   "cell_type": "code",
   "execution_count": 62,
   "metadata": {},
   "outputs": [],
   "source": [
    "newsapi_configuration = worldnewsapi.Configuration(api_key={'apiKey': API_KEY})"
   ]
  },
  {
   "cell_type": "code",
   "execution_count": 63,
   "metadata": {},
   "outputs": [
    {
     "name": "stdout",
     "output_type": "stream",
     "text": [
      "Retrieved 5 articles. Offset: 0/5. Total available: 169045.\n"
     ]
    }
   ],
   "source": [
    "try:\n",
    "\tnewsapi_instance = worldnewsapi.NewsApi(worldnewsapi.ApiClient(newsapi_configuration))\n",
    "\n",
    "\tmax_results = 5\n",
    "\toffset = 0\n",
    "\tall_results = []\n",
    "\n",
    "\twhile len(all_results) < max_results:\n",
    "\n",
    "\t\trequest_count = min(100, max_results - len(all_results))\n",
    "\n",
    "\t\tresponse = newsapi_instance.search_news(\n",
    "\t\t\ttext='',\n",
    "\t\t\tsource_countries='gb',\n",
    "\t\t\tlanguage='en',\n",
    "\t\t\tearliest_publish_date='2024-02-12',\n",
    "\t\t\tlatest_publish_date='2024-04-15',\n",
    "\t\t\tsort=\"publish-time\",\n",
    "\t\t\tsort_direction=\"desc\",\n",
    "\t\t\tmin_sentiment=-0.8,\n",
    "\t\t\tmax_sentiment=0.8,\n",
    "\t\t\toffset=offset,\n",
    "\t\t\tnumber=request_count)\n",
    "\n",
    "\t\tprint(\"Retrieved \" + str(len(response.news)) + \" articles. Offset: \" + str(offset) + \"/\" + str(max_results) +\n",
    "\t\t\t  \". Total available: \" + str(response.available) + \".\")\n",
    "\n",
    "\t\tall_results.extend(response.news)\n",
    "\t\toffset += 100\n",
    "\n",
    "\n",
    "except worldnewsapi.ApiException as e:\n",
    "\tprint(\"Exception when calling NewsApi->search_news: %s\\n\" % e)"
   ]
  },
  {
   "cell_type": "code",
   "execution_count": 64,
   "metadata": {},
   "outputs": [],
   "source": [
    "import pandas as pd\n",
    "\n",
    "data = []\n",
    "\n",
    "for article in all_results:\n",
    "    data.append({\n",
    "        \"Title\": article.title,\n",
    "        \"Author\": article.author,\n",
    "        \"URL\": article.url,\n",
    "        \"Sentiment\": article.sentiment,\n",
    "        \"Text\": article.text,\n",
    "        \"image\": article.image\n",
    "    })\n",
    "\n",
    "df = pd.DataFrame(data)"
   ]
  },
  {
   "cell_type": "code",
   "execution_count": 66,
   "metadata": {},
   "outputs": [
    {
     "data": {
      "text/html": [
       "<div>\n",
       "<style scoped>\n",
       "    .dataframe tbody tr th:only-of-type {\n",
       "        vertical-align: middle;\n",
       "    }\n",
       "\n",
       "    .dataframe tbody tr th {\n",
       "        vertical-align: top;\n",
       "    }\n",
       "\n",
       "    .dataframe thead th {\n",
       "        text-align: right;\n",
       "    }\n",
       "</style>\n",
       "<table border=\"1\" class=\"dataframe\">\n",
       "  <thead>\n",
       "    <tr style=\"text-align: right;\">\n",
       "      <th></th>\n",
       "      <th>Title</th>\n",
       "      <th>Author</th>\n",
       "      <th>URL</th>\n",
       "      <th>Sentiment</th>\n",
       "      <th>Text</th>\n",
       "      <th>image</th>\n",
       "    </tr>\n",
       "  </thead>\n",
       "  <tbody>\n",
       "    <tr>\n",
       "      <th>0</th>\n",
       "      <td>Council confirms closure of Banff, Ellon, Hunt...</td>\n",
       "      <td>David Porter</td>\n",
       "      <td>https://www.grampianonline.co.uk/news/council-...</td>\n",
       "      <td>0.191</td>\n",
       "      <td>Aberdeenshire Council has confirmed the closur...</td>\n",
       "      <td>https://www.grampianonline.co.uk/_media/img/AY...</td>\n",
       "    </tr>\n",
       "    <tr>\n",
       "      <th>1</th>\n",
       "      <td>Got Green Eyes? This Doctor Has News For You</td>\n",
       "      <td>Amy Glover</td>\n",
       "      <td>https://www.huffingtonpost.co.uk/entry/green-e...</td>\n",
       "      <td>0.156</td>\n",
       "      <td>We’ve written before at HuffPost UK about how ...</td>\n",
       "      <td>https://img.huffingtonpost.com/asset/661cf70b2...</td>\n",
       "    </tr>\n",
       "    <tr>\n",
       "      <th>2</th>\n",
       "      <td>Bank of England uses ‘out-of-date’ software to...</td>\n",
       "      <td>August Graham, Peter A Walker</td>\n",
       "      <td>https://www.insider.co.uk/news/bank-england-us...</td>\n",
       "      <td>-0.120</td>\n",
       "      <td>The model that the Bank of England uses to mak...</td>\n",
       "      <td>https://i2-prod.insider.co.uk/news/article3258...</td>\n",
       "    </tr>\n",
       "    <tr>\n",
       "      <th>3</th>\n",
       "      <td>Scottish Borders Housing Association partners ...</td>\n",
       "      <td>Peter A Walker</td>\n",
       "      <td>https://www.insider.co.uk/news/scottish-border...</td>\n",
       "      <td>0.422</td>\n",
       "      <td>Scottish Borders Housing Association (SBHA) ha...</td>\n",
       "      <td>https://i2-prod.insider.co.uk/news/article3258...</td>\n",
       "    </tr>\n",
       "    <tr>\n",
       "      <th>4</th>\n",
       "      <td>Hannah Waddingham calls out demanding paparazzi</td>\n",
       "      <td>None</td>\n",
       "      <td>https://www.bbc.co.uk/news/entertainment-arts-...</td>\n",
       "      <td>0.158</td>\n",
       "      <td>Olivier Awards host Hannah Waddingham had a me...</td>\n",
       "      <td>https://ichef.bbci.co.uk/news/1024/branded_new...</td>\n",
       "    </tr>\n",
       "  </tbody>\n",
       "</table>\n",
       "</div>"
      ],
      "text/plain": [
       "                                               Title  \\\n",
       "0  Council confirms closure of Banff, Ellon, Hunt...   \n",
       "1       Got Green Eyes? This Doctor Has News For You   \n",
       "2  Bank of England uses ‘out-of-date’ software to...   \n",
       "3  Scottish Borders Housing Association partners ...   \n",
       "4    Hannah Waddingham calls out demanding paparazzi   \n",
       "\n",
       "                          Author  \\\n",
       "0                   David Porter   \n",
       "1                     Amy Glover   \n",
       "2  August Graham, Peter A Walker   \n",
       "3                 Peter A Walker   \n",
       "4                           None   \n",
       "\n",
       "                                                 URL  Sentiment  \\\n",
       "0  https://www.grampianonline.co.uk/news/council-...      0.191   \n",
       "1  https://www.huffingtonpost.co.uk/entry/green-e...      0.156   \n",
       "2  https://www.insider.co.uk/news/bank-england-us...     -0.120   \n",
       "3  https://www.insider.co.uk/news/scottish-border...      0.422   \n",
       "4  https://www.bbc.co.uk/news/entertainment-arts-...      0.158   \n",
       "\n",
       "                                                Text  \\\n",
       "0  Aberdeenshire Council has confirmed the closur...   \n",
       "1  We’ve written before at HuffPost UK about how ...   \n",
       "2  The model that the Bank of England uses to mak...   \n",
       "3  Scottish Borders Housing Association (SBHA) ha...   \n",
       "4  Olivier Awards host Hannah Waddingham had a me...   \n",
       "\n",
       "                                               image  \n",
       "0  https://www.grampianonline.co.uk/_media/img/AY...  \n",
       "1  https://img.huffingtonpost.com/asset/661cf70b2...  \n",
       "2  https://i2-prod.insider.co.uk/news/article3258...  \n",
       "3  https://i2-prod.insider.co.uk/news/article3258...  \n",
       "4  https://ichef.bbci.co.uk/news/1024/branded_new...  "
      ]
     },
     "execution_count": 66,
     "metadata": {},
     "output_type": "execute_result"
    }
   ],
   "source": [
    "df"
   ]
  },
  {
   "cell_type": "code",
   "execution_count": 65,
   "metadata": {},
   "outputs": [
    {
     "data": {
      "text/plain": [
       "'https://www.grampianonline.co.uk/_media/img/AY08SVBVPH38Z7DKYKOE.jpg'"
      ]
     },
     "execution_count": 65,
     "metadata": {},
     "output_type": "execute_result"
    }
   ],
   "source": [
    "df['image'][0]"
   ]
  }
 ],
 "metadata": {
  "kernelspec": {
   "display_name": "AI",
   "language": "python",
   "name": "python3"
  },
  "language_info": {
   "codemirror_mode": {
    "name": "ipython",
    "version": 3
   },
   "file_extension": ".py",
   "mimetype": "text/x-python",
   "name": "python",
   "nbconvert_exporter": "python",
   "pygments_lexer": "ipython3",
   "version": "3.10.9"
  }
 },
 "nbformat": 4,
 "nbformat_minor": 2
}
